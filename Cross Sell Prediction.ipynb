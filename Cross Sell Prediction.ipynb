{
 "cells": [
  {
   "cell_type": "markdown",
   "metadata": {},
   "source": [
    "# Cross-sell: target the right customer"
   ]
  },
  {
   "cell_type": "code",
   "execution_count": null,
   "metadata": {
    "collapsed": true
   },
   "outputs": [],
   "source": [
    "import numpy as np\n",
    "import pandas as pd\n",
    "import xgboost as xgb\n",
    "from sklearn.feature_selection import VarianceThreshold\n",
    "from sklearn.model_selection import StratifiedKFold, cross_val_score\n",
    "from sklearn.metrics import make_scorer\n",
    "#from hyperopt import hp, tpe\n",
    "#from hyperopt.fmin import fmin\n",
    "import warnings\n",
    "warnings.filterwarnings('ignore')"
   ]
  },
  {
   "cell_type": "code",
   "execution_count": null,
   "metadata": {
    "collapsed": true
   },
   "outputs": [],
   "source": [
    "# Read train and test data\n",
    "train = pd.read_csv('train.csv')\n",
    "test = pd.read_csv('test_plBmD8c.csv')\n",
    "test['RESPONDERS'] = np.nan"
   ]
  },
  {
   "cell_type": "code",
   "execution_count": null,
   "metadata": {
    "collapsed": true
   },
   "outputs": [],
   "source": [
    "combin = pd.concat([train,test])"
   ]
  },
  {
   "cell_type": "code",
   "execution_count": null,
   "metadata": {
    "collapsed": true
   },
   "outputs": [],
   "source": [
    "# Cleaning the date variables\n",
    "from datetime import date\n",
    "date_cols = ['MATURITY_GL', 'MATURITY_LAP', 'MATURITY_LAS','CLOSED_DATE']\n",
    "\n",
    "for i in date_cols:\n",
    "    combin[i] = pd.to_datetime(combin[i],format='%d%b%Y')\n",
    "    if i == 'CLOSED_DATE':\n",
    "        d0 = date(2017,10,10)\n",
    "    else:\n",
    "        d0 = date(2025, 1, 1)\n",
    "    combin[i] = (d0 - combin[i]).dt.days"
   ]
  },
  {
   "cell_type": "markdown",
   "metadata": {},
   "source": [
    "The next step is to create some new features aggregatin the similar paramaters/ taking the median in a few cases"
   ]
  },
  {
   "cell_type": "code",
   "execution_count": null,
   "metadata": {
    "collapsed": true
   },
   "outputs": [],
   "source": [
    "amb_cols = [col for col in combin.columns if 'AMB_MON' in col]\n",
    "combin['Median_AMB'] = combin[amb_cols].median(axis = 1)"
   ]
  },
  {
   "cell_type": "code",
   "execution_count": null,
   "metadata": {
    "collapsed": true
   },
   "outputs": [],
   "source": [
    "eop_cols = [col for col in combin.columns if 'EOP' in col]\n",
    "combin['Median_EOP'] = combin[eop_cols].median(axis = 1)"
   ]
  },
  {
   "cell_type": "code",
   "execution_count": null,
   "metadata": {
    "collapsed": true
   },
   "outputs": [],
   "source": [
    "d_amt_cols = [col for col in combin.columns if 'D_AMT_L3' in col]\n",
    "c_amt_cols = [col for col in combin.columns if 'C_AMT_L3' in col]\n",
    "Total_Debit = combin[d_amt_cols].sum(axis = 1)\n",
    "Total_Credit = combin[c_amt_cols].sum(axis = 1)\n",
    "combin['Net Balance'] = Total_Credit - Total_Debit"
   ]
  },
  {
   "cell_type": "code",
   "execution_count": null,
   "metadata": {
    "collapsed": true
   },
   "outputs": [],
   "source": [
    "max_c_cols = [col for col in combin.columns if 'MAX_C' in col]\n",
    "combin['Median_max_c'] = combin[max_c_cols].median(axis = 1)"
   ]
  },
  {
   "cell_type": "code",
   "execution_count": null,
   "metadata": {
    "collapsed": true
   },
   "outputs": [],
   "source": [
    "sal_cols = [col for col in combin.columns if 'SAL_MON' in col]\n",
    "combin['Median_sal'] = combin[sal_cols].median(axis = 1)"
   ]
  },
  {
   "cell_type": "code",
   "execution_count": null,
   "metadata": {
    "collapsed": true
   },
   "outputs": [],
   "source": [
    "d_count_cols = [col for col in combin.columns if 'D_COUNT' in col]\n",
    "combin['Median_d_count'] = combin[d_count_cols].median(axis = 1)"
   ]
  },
  {
   "cell_type": "code",
   "execution_count": null,
   "metadata": {
    "collapsed": true
   },
   "outputs": [],
   "source": [
    "combin['N_CASA_MAX-MIN'] = combin['N_CASA_MAX_BALANCE_MTD'] - combin['N_CASA_MIN_BALANCE_MTD']"
   ]
  },
  {
   "cell_type": "code",
   "execution_count": null,
   "metadata": {
    "collapsed": true
   },
   "outputs": [],
   "source": [
    "cc_spend_cols = ['CC_SPEND_MON_04', 'CC_SPEND_MON_01', 'CC_SPEND_MON_02', 'CC_SPEND_MON_03', 'CC_SPEND_MON_06', 'CC_SPEND_MON_05',]\n",
    "dc_spend_cols = ['DC_SPEND_MON_04', 'DC_SPEND_MON_01', 'DC_SPEND_MON_02', 'DC_SPEND_MON_03', 'DC_SPEND_MON_06', 'DC_SPEND_MON_05',]\n",
    "combin['Total_CC_SPEND'] = combin[cc_spend_cols].sum(axis = 1)\n",
    "combin['Total_DC_SPEND'] = combin[dc_spend_cols].sum(axis = 1)\n",
    "\n",
    "ent_cols = ['DC_SPEND_MON_04_ENT',\n",
    "            'DC_SPEND_MON_03_ENT',\n",
    "            'DC_SPEND_MON_02_ENT',\n",
    "            'DC_SPEND_MON_01_ENT',\n",
    "            'DC_SPEND_MON_05_ENT',\n",
    "            'CC_SPEND_MON_04_ENT',\n",
    "            'CC_SPEND_MON_02_ENT',\n",
    "            'CC_SPEND_MON_01_ENT',\n",
    "            'CC_SPEND_MON_03_ENT']\n",
    "med_cols = ['DC_SPEND_MON_04_MED',\n",
    "            'DC_SPEND_MON_03_MED',\n",
    "            'DC_SPEND_MON_02_MED',\n",
    "            'DC_SPEND_MON_01_MED',\n",
    "            'DC_SPEND_MON_05_MED',\n",
    "            'CC_SPEND_MON_04_MED',\n",
    "            'CC_SPEND_MON_02_MED',\n",
    "            'CC_SPEND_MON_01_MED',\n",
    "            'CC_SPEND_MON_03_MED']\n",
    "hmd_cols = [col for col in combin.columns if 'HMD' in col]\n",
    "hby_cols = [col for col in combin.columns if 'HBY' in col]\n",
    "care_cols = ['DC_SPEND_MON_04_CARE',\n",
    "             'DC_SPEND_MON_03_CARE',\n",
    "             'DC_SPEND_MON_02_CARE',\n",
    "             'DC_SPEND_MON_01_CARE',\n",
    "             'DC_SPEND_MON_05_CARE',\n",
    "             'CC_SPEND_MON_04_CARE',\n",
    "             'CC_SPEND_MON_02_CARE',\n",
    "             'CC_SPEND_MON_01_CARE',\n",
    "             'CC_SPEND_MON_03_CARE']\n",
    "trl_cols = [col for col in combin.columns if 'TRL' in col]\n",
    "rst_cols = [col for col in combin.columns if 'RST' in col]\n",
    "jer_cols = [col for col in combin.columns if 'JER' in col]\n",
    "htl_cols = [col for col in combin.columns if 'HTL' in col]\n",
    "atm_cols = [col for col in combin.columns if 'ATM' in col]\n",
    "combin['TOTAL_ENT'] = combin[ent_cols].sum(axis = 1)\n",
    "combin['TOTAL_MED'] = combin[med_cols].sum(axis = 1)\n",
    "combin['TOTAL_HMD'] = combin[hmd_cols].sum(axis = 1)\n",
    "combin['TOTAL_HBY'] = combin[hby_cols].sum(axis = 1)\n",
    "combin['TOTAL_CARE'] = combin[care_cols].sum(axis = 1)\n",
    "combin['TOTAL_TRL'] = combin[trl_cols].sum(axis = 1)\n",
    "combin['TOTAL_RST'] = combin[rst_cols].sum(axis = 1)\n",
    "combin['TOTAL_JER'] = combin[jer_cols].sum(axis = 1)\n",
    "combin['TOTAL_HTL'] = combin[htl_cols].sum(axis = 1)\n",
    "combin['TOTAL_ATM'] = combin[atm_cols].sum(axis = 1)\n"
   ]
  },
  {
   "cell_type": "code",
   "execution_count": null,
   "metadata": {
    "collapsed": true
   },
   "outputs": [],
   "source": [
    "live_loan_tags = [col for col in combin.columns if 'TAG' in col and 'TOP_CORP' not in col and 'PA_PQ' not in col]\n",
    "closed_loan_tags = [col for col in combin.columns if '_CLOSED' in col and 'SCRUB' not in col and 'MON' not in col]\n",
    "combin['LIVE_LOAN_TAGS_SUM'] = combin[live_loan_tags].sum(axis = 1)\n",
    "combin['CLOSED_LOAN_TAGS_SUM'] = combin[closed_loan_tags].sum(axis = 1)\n"
   ]
  },
  {
   "cell_type": "code",
   "execution_count": null,
   "metadata": {
    "collapsed": true
   },
   "outputs": [],
   "source": [
    "page_visit_cols =['TRAVEL_MON_01',\n",
    "                  'CDL_MON_03',\n",
    "                  'GL_MON_03',\n",
    "                  'TWL_MON_03',\n",
    "                  'PL_MON_03',\n",
    "                  'CDL_MON_02',\n",
    "                  'GL_MON_02',\n",
    "                  'TWL_MON_02',\n",
    "                  'PL_MON_02',\n",
    "                  'CDL_MON_01',\n",
    "                  'GL_MON_01',\n",
    "                  'TWL_MON_01',\n",
    "                  'PL_MON_01']\n",
    "\n",
    "combin['TOTAL_PAGE_VISITS'] = combin[page_visit_cols].sum(axis = 1)"
   ]
  },
  {
   "cell_type": "code",
   "execution_count": null,
   "metadata": {
    "collapsed": true
   },
   "outputs": [],
   "source": [
    "stmt_cols = ['STMT_MON_01','STMT_MON_02','STMT_MON_03']\n",
    "combin[stmt_cols].fillna(0,inplace = True)\n",
    "combin.fillna(-1,inplace = True)\n",
    "combin.replace('Y', 1, inplace = True)\n",
    "combin.replace('N', 0, inplace = True)"
   ]
  },
  {
   "cell_type": "code",
   "execution_count": null,
   "metadata": {
    "collapsed": true
   },
   "outputs": [],
   "source": [
    "#Processing zip codes to create a meaningful feature\n",
    "combin['new_zip'] = combin['ZIP_CODE_FINAL'].astype(str).str[0:3]\n",
    "counts = combin.new_zip.value_counts()\n",
    "combin.new_zip[combin['new_zip'].isin(counts[counts > 9000].index)] = 2\n",
    "combin.new_zip[combin['new_zip'].isin(counts[counts > 1000].index) & combin['new_zip'].isin(counts[counts < 9000].index)] = 1\n",
    "combin.new_zip[combin['new_zip'].isin(counts[counts < 1000].index)] = 0\n",
    "combin.new_zip[combin['ZIP_CODE_FINAL'] == -1] = -1"
   ]
  },
  {
   "cell_type": "code",
   "execution_count": null,
   "metadata": {
    "collapsed": true
   },
   "outputs": [],
   "source": [
    "combin.loc[combin['PA_PQ_TAG'].str.contains(\"INCOME\", na = False),'PA_PQ_TAG'] = combin.PA_PQ_TAG[combin['PA_PQ_TAG'].str.contains(\"INCOME\", na = False)].apply(lambda x: x.split('INCOME_')[1]).apply(lambda x: x.split('K')[0])\n"
   ]
  },
  {
   "cell_type": "code",
   "execution_count": null,
   "metadata": {
    "collapsed": true
   },
   "outputs": [],
   "source": [
    "combin.loc[combin['PA_PQ_TAG'] == 'Green Channel','PA_PQ_TAG'] = 1\n",
    "combin.loc[combin['PA_PQ_TAG'] == 'PQ with Ref dedupe','PA_PQ_TAG'] = 2\n",
    "combin.loc[combin['PA_PQ_TAG'] == 'PQ with Dedupe','PA_PQ_TAG'] = 2\n",
    "combin.loc[combin['PA_PQ_TAG'] == 'PQ with Neg dedupe','PA_PQ_TAG'] = 3\n",
    "combin.loc[combin['PA_PQ_TAG'] == 'PQ with Account','PA_PQ_TAG'] = 4\n",
    "combin.loc[combin['PA_PQ_TAG'] == 'PQ with KYC','PA_PQ_TAG'] = 5\n",
    "combin.loc[combin['PA_PQ_TAG'] == 'PQ with Coapp','PA_PQ_TAG'] = 6\n",
    "combin.loc[combin['PA_PQ_TAG'] == 'STP','PA_PQ_TAG'] = 7"
   ]
  },
  {
   "cell_type": "code",
   "execution_count": null,
   "metadata": {
    "collapsed": true
   },
   "outputs": [],
   "source": [
    "dict_act_type = {'SA': 0, 'CSA': 1}\n",
    "\n",
    "dict_gender = {'M': 0, 'F': 1}\n",
    "\n",
    "dict_legal_entity = {'INDIVIDUAL': 0, 'OTHERS':1, 'NON_GOVERNMENTAL_ORG':1, 'ASSOCIATION':1,\n",
    "                     'FIRM':1, 'PROPRIETERSHIP':1, 'TRUSTS':1}\n",
    "\n",
    "dict_channel_click_disp = {'NONE':0, 'DISP':1, 'CLICK':2}\n",
    "\n",
    "dict_designation_final = {'MISSING':-1, 'ENGINEER':1, 'MANAGER':2, 'EXECUTIVE':1, 'SUP/TECH/OPR':1,\n",
    "                          'OFFICER':2, 'OTHERS':0, 'DEVEP/PROG/ANALYST/ASSO':1, 'REMAING':0,\n",
    "                          'TOP_MANAG/DOC':3, 'TEACH/PROF/CONSULT':2}\n",
    "\n",
    "dict_neft_tpt_imps_cat = {'NO_TPT_TXN':0, 'NOT_RELEVANT':-1, 'TRANSFER':1, 'LOAN':2, 'PERSONAL':3,\n",
    "       'RETURN':4, 'RENT':5, 'TRAVEL':6, 'CC_PAYMENT':7, 'EMI':8, 'CHILD_BIR':9,\n",
    "       'EDUCATION':10, 'GAS':11, 'ADVANCE':12, 'MEDICAL':13, 'HELP':14, 'ELECTRICI':15,\n",
    "       'WEDDING':16, 'BUILDER':17, 'OPERATION':18, 'JEWELLERY':19, 'NO_NEFT_TXN': 0, 'NO_IMPS_TXN': 0}\n",
    "\n",
    "dict_top_corp_tag = {'NONE':-1, 'TOP_800':1, 'TOP_100':2}\n",
    "\n",
    "combin.replace({\"ACT_TYPE\": dict_act_type}, inplace=True)\n",
    "combin.replace({\"GENDER\": dict_gender}, inplace=True)\n",
    "combin.replace({\"LEGAL_ENTITY\": dict_legal_entity}, inplace=True)\n",
    "combin.replace({'CHANNEL_CLICK_DISP': dict_channel_click_disp}, inplace=True)\n",
    "combin.replace({'DESIGNATION_FINAL': dict_designation_final}, inplace=True)\n",
    "combin.replace({'NEFT_DC_CATEGORY': dict_neft_tpt_imps_cat}, inplace=True)\n",
    "combin.replace({'NEFT_CC_CATEGORY': dict_neft_tpt_imps_cat}, inplace=True)\n",
    "combin.replace({'TPT_DC_CATEGORY_MON_01': dict_neft_tpt_imps_cat}, inplace=True)\n",
    "combin.replace({'TPT_CC_CATEGORY_MON_01': dict_neft_tpt_imps_cat}, inplace=True)\n",
    "combin.replace({'IMPS_CC_CATEGORY_MON_01': dict_neft_tpt_imps_cat}, inplace=True)\n",
    "combin.replace({'TOP_CORP_TAG': dict_top_corp_tag}, inplace=True)\n"
   ]
  },
  {
   "cell_type": "code",
   "execution_count": null,
   "metadata": {
    "collapsed": true
   },
   "outputs": [],
   "source": [
    "y_all = combin.RESPONDERS.iloc[0:300000]\n",
    "combin.drop(['RESPONDERS','CUSTOMER_ID','ZIP_CODE_FINAL','OCCUP_ALL_NEW'],axis = 1,inplace=True)\n",
    "test_new = combin.iloc[300000:,:]\n",
    "train_new = combin.iloc[0:300000,:]"
   ]
  },
  {
   "cell_type": "code",
   "execution_count": null,
   "metadata": {
    "collapsed": true
   },
   "outputs": [],
   "source": [
    "# Remove features with zero variance\n",
    "selector = VarianceThreshold(threshold=0)\n",
    "selector.fit(train_new)\n",
    "z = selector.get_support(indices=False)\n",
    "zz = pd.DataFrame({'Feature':train_new.columns.values, 'ret': z})\n",
    "cols = np.array(zz.loc[zz.ret == 1,'Feature'])\n",
    "train_new = pd.DataFrame(selector.fit_transform(train_new),columns=cols)\n",
    "test_new = pd.DataFrame(selector.transform(test_new),columns=cols)"
   ]
  },
  {
   "cell_type": "markdown",
   "metadata": {},
   "source": [
    "## XGBoost"
   ]
  },
  {
   "cell_type": "code",
   "execution_count": null,
   "metadata": {
    "collapsed": true
   },
   "outputs": [],
   "source": [
    "params = {}\n",
    "params['objective'] = 'binary:logistic'\n",
    "params['eta'] = 0.01\n",
    "params['booster'] = 'gbtree'\n",
    "params['silent'] = True\n",
    "params['max_depth'] = 7\n",
    "params['subsample'] = 0.9\n",
    "params['colsample_bytree'] = 0.65\n",
    "params['tree_method'] = 'exact'\n",
    "params['eval_metric'] = 'auc'\n",
    "#params['scale_pos_weight'] = 2\n",
    "#params['gamma'] = 0.076\n",
    "params['gamma'] = 0.1\n",
    "params['min_child_weight'] = 4"
   ]
  },
  {
   "cell_type": "code",
   "execution_count": null,
   "metadata": {
    "collapsed": true
   },
   "outputs": [],
   "source": [
    "kfold = 10\n",
    "X = train_new.values\n",
    "y = y_all.values\n",
    "sub_xgb=test['CUSTOMER_ID'].to_frame()\n",
    "sub_xgb['RESPONDERS']=0\n",
    "nrounds = 3000"
   ]
  },
  {
   "cell_type": "code",
   "execution_count": null,
   "metadata": {},
   "outputs": [],
   "source": [
    "# Take average of different xgboost models for better generalization\n",
    "features = train_new.columns\n",
    "skf = StratifiedKFold(n_splits=kfold, random_state=0, shuffle=True)\n",
    "np.random.seed(0)\n",
    "for i, (train_index, test_index) in enumerate(skf.split(X, y)):\n",
    "    print(' xgb kfold: {}  of  {} : '.format(i+1, kfold))\n",
    "    X_train, X_valid = X[train_index], X[test_index]\n",
    "    y_train, y_valid = y[train_index], y[test_index]\n",
    "    d_train = xgb.DMatrix(X_train, y_train)\n",
    "    d_valid = xgb.DMatrix(X_valid, y_valid)\n",
    "    watchlist = [(d_train, 'train'), (d_valid, 'valid')]\n",
    "    xgb_model = xgb.train(params, d_train, nrounds, watchlist, early_stopping_rounds=100,\n",
    "                          maximize=True, verbose_eval=100)\n",
    "    sub_xgb['RESPONDERS'] += xgb_model.predict(xgb.DMatrix(test_new[features].values), \n",
    "                        ntree_limit=xgb_model.best_ntree_limit+50) / (kfold)\n",
    "sub_xgb.to_csv('xgb_tuned_averaged.csv', index=False, float_format='%.5f')"
   ]
  },
  {
   "cell_type": "markdown",
   "metadata": {},
   "source": [
    "## Light Gradient Boosting Machine"
   ]
  },
  {
   "cell_type": "code",
   "execution_count": null,
   "metadata": {
    "scrolled": true
   },
   "outputs": [],
   "source": [
    "# lgb\n",
    "kfold = 5\n",
    "import lightgbm as lgb\n",
    "def lift_lgb(pred, dtrain):\n",
    "    y = list(dtrain.get_label())\n",
    "    return 'max_lift', lift(y, pred), True\n",
    "\n",
    "sub_lgb=test['CUSTOMER_ID'].to_frame()\n",
    "sub_lgb['RESPONDERS']=0\n",
    "\n",
    "params = {'metric': 'auc', 'learning_rate' : 0.01, 'max_depth':9, 'max_bin':20,  'objective': 'binary', \n",
    "          'feature_fraction': 0.8,'bagging_fraction':0.9,'bagging_freq':10,  'min_data': 500}\n",
    "\n",
    "skf = StratifiedKFold(n_splits=kfold, random_state=5, shuffle = True)\n",
    "for i, (train_index, test_index) in enumerate(skf.split(X, y)):\n",
    "    print(' lgb kfold: {}  of  {} : '.format(i+1, kfold))\n",
    "    X_train, X_eval = X[train_index], X[test_index]\n",
    "    y_train, y_eval = y[train_index], y[test_index]\n",
    "    lgb_model = lgb.train(params, lgb.Dataset(X_train, label=y_train), nrounds, \n",
    "                  lgb.Dataset(X_eval, label=y_eval), verbose_eval=100, \n",
    "                  early_stopping_rounds=100)\n",
    "    sub_lgb['RESPONDERS'] += lgb_model.predict(test_new[features].values, \n",
    "                        num_iteration=lgb_model.best_iteration) / (kfold)\n",
    "sub_lgb.to_csv('lgb_tuned_averaged.csv', index=False, float_format='%.5f')"
   ]
  },
  {
   "cell_type": "code",
   "execution_count": null,
   "metadata": {
    "collapsed": true
   },
   "outputs": [],
   "source": [
    "# Calculating Normalized rank and making ensemble\n",
    "xgb_pred = pd.read_csv('xgb_tuned_averaged.csv')\n",
    "lgb_pred = pd.read_csv('lgb_tuned_averaged.csv')\n",
    "xgb_pred['rank/length'] = xgb_pred['RESPONDERS'].rank(ascending = 1)/xgb_pred.shape[0]\n",
    "lgb_pred['rank/length'] = lgb_pred['RESPONDERS'].rank(ascending = 1)/lgb_pred.shape[0]\n",
    "sub = pd.DataFrame({'CUSTOMER_ID': test.CUSTOMER_ID, 'RESPONDERS':0.5 * xgb_pred['rank/length'] + 0.5 * lgb_pred['rank/length']})\n",
    "sub.to_csv('sub_ens_rank_norm.csv',index=False,float_format='%.6f')"
   ]
  }
 ],
 "metadata": {
  "kernelspec": {
   "display_name": "Python 3",
   "language": "python",
   "name": "python3"
  },
  "language_info": {
   "codemirror_mode": {
    "name": "ipython",
    "version": 3
   },
   "file_extension": ".py",
   "mimetype": "text/x-python",
   "name": "python",
   "nbconvert_exporter": "python",
   "pygments_lexer": "ipython3",
   "version": "3.6.1"
  }
 },
 "nbformat": 4,
 "nbformat_minor": 2
}
